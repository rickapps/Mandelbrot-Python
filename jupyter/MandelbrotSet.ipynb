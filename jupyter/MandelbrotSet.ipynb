{
 "cells": [
  {
   "cell_type": "markdown",
   "metadata": {},
   "source": [
    "# Mandelbrot Sets"
   ]
  },
  {
   "cell_type": "markdown",
   "metadata": {},
   "source": [
    "\n",
    "$ x_{n+1} = x_{n}^{2} + C $"
   ]
  },
  {
   "cell_type": "markdown",
   "metadata": {},
   "source": [
    "The above equation helps us to plot a Mandelbrot set. Note that it does not define $(x,y)$ pairs. Instead, it defines a series. If we set $ x=0 $ and $C=1$ we get the series: $1,2,5,26,(26^2 + 1)$, etc. Choosing different values of C will give vastly different series. Some of these series will repeat, some will converge, and the rest will diverge. This is true whether C is a real number or a complex number.\n",
    "\n",
    "If we assume C is a complex number, $a+bi$, we can plot $(a,b)$ for multiple values of C. We can plug C into the equation above and generate our series. Depending on the rate of change in the series values, we can assign a color. Usually, convegent series are assigned black and exremely divergent series are assigend very light colors. The series in the example above diverges fairly quickly so you would plot a fairly light color at the point $(1,0)$. You can control the appearance of your plots by assigning different functions to compute color: $f(dx) = color$. The color is determined by the rate of change in your series for any given value of C.\n",
    "\n",
    "The Mandelbrot set is generally the set of all complex C values for which the series does not diverge to infinity (pictured in black below).  \n",
    "\n",
    "Assume C = (a + bi) and the first two terms of our series become: (a + bi), ($a^2$ + 2abi - $b^2$) + (a + bi), ... We iterate through all the (a,b) coords of our image and plot a color based on how the calculated series for that point converges or diverges. \n"
   ]
  },
  {
   "cell_type": "markdown",
   "metadata": {},
   "source": [
    "![Image](mandelplot.png)"
   ]
  },
  {
   "cell_type": "code",
   "execution_count": 132,
   "metadata": {},
   "outputs": [],
   "source": [
    "from matplotlib.pyplot import imshow\n",
    "import numpy as np\n",
    "from PIL import Image\n",
    "import colorsys\n",
    "import math\n",
    "import os\n",
    "%matplotlib inline"
   ]
  },
  {
   "cell_type": "code",
   "execution_count": 147,
   "metadata": {},
   "outputs": [],
   "source": [
    "# Define some constants\n",
    "# Number of pixels in our image\n",
    "imageLength = 720\n",
    "imageHeight = 540\n",
    "xDomain = 3.4\n",
    "xCenter = -0.65\n",
    "yCenter = 0.0\n",
    "# Used to determine if series diverges\n",
    "iterations = 500\n",
    "testDistance = 4"
   ]
  },
  {
   "cell_type": "code",
   "execution_count": 148,
   "metadata": {},
   "outputs": [],
   "source": [
    "# Calculate the rest of our constants\n",
    "aspectRatio = imageLength / imageHeight\n",
    "yRange = xDomain / aspectRatio\n",
    "xMin = xCenter - xDomain/2\n",
    "yMax = yCenter + yRange/2 \n",
    "xScale = xDomain/imageLength\n",
    "yScale = yRange/imageHeight"
   ]
  },
  {
   "cell_type": "code",
   "execution_count": 149,
   "metadata": {},
   "outputs": [],
   "source": [
    "# Initialize our image to black\n",
    "img = Image.new('RGB',(imageLength,imageHeight), color='black')\n",
    "pixels = img.load()"
   ]
  },
  {
   "cell_type": "code",
   "execution_count": null,
   "metadata": {},
   "outputs": [],
   "source": [
    "# Loop through every pixel in the image\n",
    "for row in range(imageHeight):\n",
    "    for col in range(imageLength):\n",
    "        # Convert to (x,y) coords. (row, col) starts at top left\n",
    "        # We want min (x,y) to be at bottom left\n",
    "        xComplex = xMin + col * xScale\n",
    "        yComplex = yMax - row * yScale\n",
    "        # We are going to generate our series using this value as our constant.\n",
    "        # It is a complex number (a+bi) defined as (xComplex, yComplex)\n",
    "        # We will generate up to iterations terms of the series for\n",
    "        # each complex number. Note that (a+bi)**2 = a**2 + 2abi - b**2\n",
    "        x = xComplex # We need a starting value\n",
    "        y = yComplex # We need a starting value to generate next val in series\n",
    "        for i in range(iterations + 1):\n",
    "            a = x*x - y*y # First generate (a+bi)**2 using previous (x,y)\n",
    "            b = 2 * x * y\n",
    "            x = a + xComplex  # New series values are old value squared plus\n",
    "            y = b + yComplex  # our constant complex number.\n",
    "            # Check if series is diverging\n",
    "            if (x * x) + (y * y) > testDistance:\n",
    "                break\n",
    "                \n",
    "        # If we exited the loop early, our series diverged\n",
    "        if i < iterations:\n",
    "            # Get fraction of loop we completed. Higher values\n",
    "            # mean slower divergence\n",
    "            fraction = i/iterations\n",
    "            hue = fraction   # Between 0 and 1. Progresses Red, Yellow, Green, Cyan, Blue, Magenta\n",
    "            saturation = 0.7   # Amount of grey - zero is all grey, one is no grey\n",
    "            value = 1        # Brightness, zero is black, 1 is full brightness\n",
    "            rgb = tuple(round(i*255) for i in colorsys.hsv_to_rgb(hue,saturation,value))\n",
    "            # Set the pixel to the color we calculated\n",
    "            pixels[col,row] = rgb              "
   ]
  },
  {
   "cell_type": "code",
   "execution_count": 152,
   "metadata": {},
   "outputs": [
    {
     "data": {
      "text/plain": [
       "<matplotlib.image.AxesImage at 0x7fd6e8901ac0>"
      ]
     },
     "execution_count": 152,
     "metadata": {},
     "output_type": "execute_result"
    },
    {
     "data": {
      "image/png": "[encoded data removed]",
      "text/plain": [
       "<Figure size 432x288 with 1 Axes>"
      ]
     },
     "metadata": {
      "needs_background": "light"
     },
     "output_type": "display_data"
    }
   ],
   "source": [
    "# Shows image in a separate window\n",
    "#img.show()  \n",
    "# Shows image inline\n",
    "imshow(np.asarray(img))  \n",
    "#img.save('output.png')\n",
    "#os.system('open output.png')  "
   ]
  },
  {
   "cell_type": "code",
   "execution_count": null,
   "metadata": {},
   "outputs": [],
   "source": []
  }
 ],
 "metadata": {
  "kernelspec": {
   "display_name": "mandelbrot",
   "language": "python",
   "name": "mandelbrot"
  },
  "language_info": {
   "codemirror_mode": {
    "name": "ipython",
    "version": 3
   },
   "file_extension": ".py",
   "mimetype": "text/x-python",
   "name": "python",
   "nbconvert_exporter": "python",
   "pygments_lexer": "ipython3",
   "version": "3.8.5"
  }
 },
 "nbformat": 4,
 "nbformat_minor": 4
}
